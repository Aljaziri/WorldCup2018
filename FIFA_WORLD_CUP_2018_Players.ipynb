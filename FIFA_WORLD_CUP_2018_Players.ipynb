{
  "nbformat": 4,
  "nbformat_minor": 0,
  "metadata": {
    "colab": {
      "name": "FIFA WORLD CUP 2018 Players.ipynb",
      "version": "0.3.2",
      "provenance": [],
      "include_colab_link": true
    },
    "kernelspec": {
      "name": "python3",
      "display_name": "Python 3"
    }
  },
  "cells": [
    {
      "cell_type": "markdown",
      "metadata": {
        "id": "view-in-github",
        "colab_type": "text"
      },
      "source": [
        "<a href=\"https://colab.research.google.com/github/Aljaziri/WorldCup2018/blob/master/FIFA_WORLD_CUP_2018_Players.ipynb\" target=\"_parent\"><img src=\"https://colab.research.google.com/assets/colab-badge.svg\" alt=\"Open In Colab\"/></a>"
      ]
    },
    {
      "cell_type": "markdown",
      "metadata": {
        "id": "xW4epF3b953M",
        "colab_type": "text"
      },
      "source": [
        "# FIFA World Cup 2018 Players Analysis\n",
        "\n",
        "This is one of Udacity DSND projects in which a dataset is being analysed and CRISP process will be followed.\n",
        "\n",
        "\n",
        "\n"
      ]
    },
    {
      "cell_type": "code",
      "metadata": {
        "id": "OxKUQGLt47Tl",
        "colab_type": "code",
        "colab": {}
      },
      "source": [
        "# Import libraries\n",
        "import numpy as np # linear algebra\n",
        "import pandas as pd # data processing, CSV file I/O (e.g. pd.read_csv)\n",
        "import os\n",
        "import matplotlib.pyplot as plt\n",
        "import seaborn as sns\n",
        "%matplotlib inline"
      ],
      "execution_count": 0,
      "outputs": []
    },
    {
      "cell_type": "markdown",
      "metadata": {
        "id": "GVLgtSG2_s-J",
        "colab_type": "text"
      },
      "source": [
        "There are many ways to be able from Google Colab Notebook to access a CSV file.\n",
        "I prefred maping the drive as it will give me the capablity to drag and drop files to my Google Drive.\n",
        "\n",
        "\n",
        "*Refrence : https://towardsdatascience.com/3-ways-to-load-csv-files-into-colab-7c14fcbdcb92*\n",
        "\n"
      ]
    },
    {
      "cell_type": "code",
      "metadata": {
        "id": "RttKeFiG0M-9",
        "colab_type": "code",
        "colab": {
          "base_uri": "https://localhost:8080/",
          "height": 122
        },
        "outputId": "07e30d05-133c-4240-f4f1-0a9eab89e368"
      },
      "source": [
        "''' \n",
        "After running this code, the user will be asked to provide authorization code.\n",
        "Login using your Google account and copy the code you got and paste it in the field displayed to you.\n",
        "\n",
        "''''\n",
        "\n",
        "from google.colab import drive \n",
        "drive.mount('/content/gdrive')"
      ],
      "execution_count": 3,
      "outputs": [
        {
          "output_type": "stream",
          "text": [
            "Go to this URL in a browser: https://accounts.google.com/o/oauth2/auth?client_id=947318989803-6bn6qk8qdgf4n4g3pfee6491hc0brc4i.apps.googleusercontent.com&redirect_uri=urn%3Aietf%3Awg%3Aoauth%3A2.0%3Aoob&scope=email%20https%3A%2F%2Fwww.googleapis.com%2Fauth%2Fdocs.test%20https%3A%2F%2Fwww.googleapis.com%2Fauth%2Fdrive%20https%3A%2F%2Fwww.googleapis.com%2Fauth%2Fdrive.photos.readonly%20https%3A%2F%2Fwww.googleapis.com%2Fauth%2Fpeopleapi.readonly&response_type=code\n",
            "\n",
            "Enter your authorization code:\n",
            "··········\n",
            "Mounted at /content/gdrive\n"
          ],
          "name": "stdout"
        }
      ]
    },
    {
      "cell_type": "code",
      "metadata": {
        "id": "rmDDmmy81hIL",
        "colab_type": "code",
        "colab": {
          "base_uri": "https://localhost:8080/",
          "height": 34
        },
        "outputId": "a67f09a5-72cd-4c8b-8462-2553f2ff3e98"
      },
      "source": [
        "# Mounting the directry as drive, you can access it from the left menu.\n",
        "\n",
        "from google.colab import drive\n",
        "drive.mount('/content/drive')"
      ],
      "execution_count": 4,
      "outputs": [
        {
          "output_type": "stream",
          "text": [
            "Mounted at /content/drive\n"
          ],
          "name": "stdout"
        }
      ]
    },
    {
      "cell_type": "code",
      "metadata": {
        "id": "0SAWg1qiFOnE",
        "colab_type": "code",
        "colab": {
          "base_uri": "https://localhost:8080/",
          "height": 34
        },
        "outputId": "d4c5306e-bceb-49c1-daa2-ef3e0bbefeaa"
      },
      "source": [
        "cd /content/drive/My Drive/Colab Notebooks/FIFA WORLD CUP 2018 Players"
      ],
      "execution_count": 8,
      "outputs": [
        {
          "output_type": "stream",
          "text": [
            "/content/drive/My Drive/Colab Notebooks/FIFA WORLD CUP 2018 Players\n"
          ],
          "name": "stdout"
        }
      ]
    },
    {
      "cell_type": "code",
      "metadata": {
        "id": "l12mIrF_4IvV",
        "colab_type": "code",
        "colab": {
          "base_uri": "https://localhost:8080/",
          "height": 204
        },
        "outputId": "599cb9a1-fe9b-498f-87e9-7b52459c6a6b"
      },
      "source": [
        "# Load the CSV file into Pandas data frame :\n",
        "\n",
        "df = pd.read_csv('wc2018-players.csv')\n",
        "\n",
        "# Exploring the data  frame fields :\n",
        "df.head()"
      ],
      "execution_count": 9,
      "outputs": [
        {
          "output_type": "execute_result",
          "data": {
            "text/html": [
              "<div>\n",
              "<style scoped>\n",
              "    .dataframe tbody tr th:only-of-type {\n",
              "        vertical-align: middle;\n",
              "    }\n",
              "\n",
              "    .dataframe tbody tr th {\n",
              "        vertical-align: top;\n",
              "    }\n",
              "\n",
              "    .dataframe thead th {\n",
              "        text-align: right;\n",
              "    }\n",
              "</style>\n",
              "<table border=\"1\" class=\"dataframe\">\n",
              "  <thead>\n",
              "    <tr style=\"text-align: right;\">\n",
              "      <th></th>\n",
              "      <th>Team</th>\n",
              "      <th>#</th>\n",
              "      <th>Pos.</th>\n",
              "      <th>FIFA Popular Name</th>\n",
              "      <th>Birth Date</th>\n",
              "      <th>Shirt Name</th>\n",
              "      <th>Club</th>\n",
              "      <th>Height</th>\n",
              "      <th>Weight</th>\n",
              "    </tr>\n",
              "  </thead>\n",
              "  <tbody>\n",
              "    <tr>\n",
              "      <th>0</th>\n",
              "      <td>Argentina</td>\n",
              "      <td>3</td>\n",
              "      <td>DF</td>\n",
              "      <td>TAGLIAFICO Nicolas</td>\n",
              "      <td>31.08.1992</td>\n",
              "      <td>TAGLIAFICO</td>\n",
              "      <td>AFC Ajax (NED)</td>\n",
              "      <td>169</td>\n",
              "      <td>65</td>\n",
              "    </tr>\n",
              "    <tr>\n",
              "      <th>1</th>\n",
              "      <td>Argentina</td>\n",
              "      <td>22</td>\n",
              "      <td>MF</td>\n",
              "      <td>PAVON Cristian</td>\n",
              "      <td>21.01.1996</td>\n",
              "      <td>PAVÓN</td>\n",
              "      <td>CA Boca Juniors (ARG)</td>\n",
              "      <td>169</td>\n",
              "      <td>65</td>\n",
              "    </tr>\n",
              "    <tr>\n",
              "      <th>2</th>\n",
              "      <td>Argentina</td>\n",
              "      <td>15</td>\n",
              "      <td>MF</td>\n",
              "      <td>LANZINI Manuel</td>\n",
              "      <td>15.02.1993</td>\n",
              "      <td>LANZINI</td>\n",
              "      <td>West Ham United FC (ENG)</td>\n",
              "      <td>167</td>\n",
              "      <td>66</td>\n",
              "    </tr>\n",
              "    <tr>\n",
              "      <th>3</th>\n",
              "      <td>Argentina</td>\n",
              "      <td>18</td>\n",
              "      <td>DF</td>\n",
              "      <td>SALVIO Eduardo</td>\n",
              "      <td>13.07.1990</td>\n",
              "      <td>SALVIO</td>\n",
              "      <td>SL Benfica (POR)</td>\n",
              "      <td>167</td>\n",
              "      <td>69</td>\n",
              "    </tr>\n",
              "    <tr>\n",
              "      <th>4</th>\n",
              "      <td>Argentina</td>\n",
              "      <td>10</td>\n",
              "      <td>FW</td>\n",
              "      <td>MESSI Lionel</td>\n",
              "      <td>24.06.1987</td>\n",
              "      <td>MESSI</td>\n",
              "      <td>FC Barcelona (ESP)</td>\n",
              "      <td>170</td>\n",
              "      <td>72</td>\n",
              "    </tr>\n",
              "  </tbody>\n",
              "</table>\n",
              "</div>"
            ],
            "text/plain": [
              "        Team   # Pos.  ...                      Club Height Weight\n",
              "0  Argentina   3   DF  ...            AFC Ajax (NED)    169     65\n",
              "1  Argentina  22   MF  ...     CA Boca Juniors (ARG)    169     65\n",
              "2  Argentina  15   MF  ...  West Ham United FC (ENG)    167     66\n",
              "3  Argentina  18   DF  ...          SL Benfica (POR)    167     69\n",
              "4  Argentina  10   FW  ...        FC Barcelona (ESP)    170     72\n",
              "\n",
              "[5 rows x 9 columns]"
            ]
          },
          "metadata": {
            "tags": []
          },
          "execution_count": 9
        }
      ]
    },
    {
      "cell_type": "code",
      "metadata": {
        "id": "XudcXOiY5TI_",
        "colab_type": "code",
        "colab": {
          "base_uri": "https://localhost:8080/",
          "height": 34
        },
        "outputId": "527b62d4-9bb1-4fba-f6ae-fc42dfccaa8a"
      },
      "source": [
        "# Get the number of teams\n",
        "\n",
        "len(df.Team.unique())\n"
      ],
      "execution_count": 110,
      "outputs": [
        {
          "output_type": "execute_result",
          "data": {
            "text/plain": [
              "32"
            ]
          },
          "metadata": {
            "tags": []
          },
          "execution_count": 110
        }
      ]
    },
    {
      "cell_type": "code",
      "metadata": {
        "id": "vWHZhDWr5r5w",
        "colab_type": "code",
        "colab": {
          "base_uri": "https://localhost:8080/",
          "height": 503
        },
        "outputId": "88b32d5e-a92a-41c3-bd74-e4d3e9a8d6a3"
      },
      "source": [
        "''' \n",
        "Calclate the avreage weight of each team.\n",
        "Then plot it as horizintal bar.\n",
        "The range of the chart is between 70 and 83 to make the diffrences more obvious visually.\n",
        "'''\n",
        "\n",
        "df.groupby(\"Team\").Weight.mean().sort_values(ascending=False).plot.barh(x='Team' , figsize=(15, 8) , xlim=[70, 83]  )"
      ],
      "execution_count": 96,
      "outputs": [
        {
          "output_type": "execute_result",
          "data": {
            "text/plain": [
              "<matplotlib.axes._subplots.AxesSubplot at 0x7f39eaf65128>"
            ]
          },
          "metadata": {
            "tags": []
          },
          "execution_count": 96
        },
        {
          "output_type": "display_data",
          "data": {
            "image/png": "[encoded data removed]",
            "text/plain": [
              "<Figure size 1080x576 with 1 Axes>"
            ]
          },
          "metadata": {
            "tags": []
          }
        }
      ]
    },
    {
      "cell_type": "code",
      "metadata": {
        "id": "_Sg0GBs0-STe",
        "colab_type": "code",
        "colab": {
          "base_uri": "https://localhost:8080/",
          "height": 503
        },
        "outputId": "f7e52b62-932c-4dfe-aaf6-ab46986d6db1"
      },
      "source": [
        "''' \n",
        "Calclate the avreage hight of each team.\n",
        "Then plot it as horizintal bar.\n",
        "The range of the chart is between 177 and 187 to make the diffrences more obvious visually.\n",
        "'''\n",
        "\n",
        "\n",
        "df.groupby(\"Team\").Height.mean().sort_values(ascending=False).plot.barh(x='Team' , figsize=(15, 8) , xlim=[177, 187]  )"
      ],
      "execution_count": 104,
      "outputs": [
        {
          "output_type": "execute_result",
          "data": {
            "text/plain": [
              "<matplotlib.axes._subplots.AxesSubplot at 0x7f39eaa69b00>"
            ]
          },
          "metadata": {
            "tags": []
          },
          "execution_count": 104
        },
        {
          "output_type": "display_data",
          "data": {
            "image/png": "[encoded data removed]",
            "text/plain": [
              "<Figure size 1080x576 with 1 Axes>"
            ]
          },
          "metadata": {
            "tags": []
          }
        }
      ]
    },
    {
      "cell_type": "code",
      "metadata": {
        "id": "mQh99ekX74Z3",
        "colab_type": "code",
        "colab": {}
      },
      "source": [
        "''' \n",
        "Calclate the Body Mass Index for each team.\n",
        "The formula is :\n",
        "BMI = Weight / Height^2\n",
        "This is in case the units are metere and KG.\n",
        "Ref : https://www.cdc.gov/healthyweight/assessing/bmi/childrens_bmi/childrens_bmi_formula.html\n",
        "\n",
        "To make this calaculation easy for ourself, a coulmn is being added in which the Height is being sequared for each player:\n",
        "'''\n",
        "\n",
        "Height2 = (df.Height/100)*(df.Height/100)\n",
        "df['Height2'] = Height2  \n",
        "                          "
      ],
      "execution_count": 0,
      "outputs": []
    },
    {
      "cell_type": "code",
      "metadata": {
        "id": "i9yAf99FElid",
        "colab_type": "code",
        "colab": {}
      },
      "source": [
        "# Calculate the BMI and append it in a coulmn to the data frame\n",
        "\n",
        "BMI = df.Weight/df.Height2        \n",
        "df['BMI'] = BMI"
      ],
      "execution_count": 0,
      "outputs": []
    },
    {
      "cell_type": "code",
      "metadata": {
        "id": "7en83LidFhkh",
        "colab_type": "code",
        "colab": {
          "base_uri": "https://localhost:8080/",
          "height": 503
        },
        "outputId": "b5bbbf47-786a-4eb5-814c-e47937159e6d"
      },
      "source": [
        "''' \n",
        "Plot the average BMI for each team as horizintal bar.\n",
        "The range of the chart is between 22 and 24.5 to make the diffrences more obvious visually.\n",
        "'''\n",
        "df.groupby(\"Team\").BMI.mean().sort_values(ascending=False).plot.barh(x='Team' , figsize=(15, 8) , xlim=[22, 24.5]  )"
      ],
      "execution_count": 98,
      "outputs": [
        {
          "output_type": "execute_result",
          "data": {
            "text/plain": [
              "<matplotlib.axes._subplots.AxesSubplot at 0x7f39eae18cf8>"
            ]
          },
          "metadata": {
            "tags": []
          },
          "execution_count": 98
        },
        {
          "output_type": "display_data",
          "data": {
            "image/png": "[encoded data removed]",
            "text/plain": [
              "<Figure size 1080x576 with 1 Axes>"
            ]
          },
          "metadata": {
            "tags": []
          }
        }
      ]
    },
    {
      "cell_type": "code",
      "metadata": {
        "id": "MpE27ge2NZFY",
        "colab_type": "code",
        "colab": {
          "base_uri": "https://localhost:8080/",
          "height": 204
        },
        "outputId": "87067411-0a4f-4725-f635-00b0490a0618"
      },
      "source": [
        "# Find the top 5 players with the most height\n",
        "\n",
        "df.sort_values('Height', ascending=False)[['FIFA Popular Name', 'Height'] ].head(5)"
      ],
      "execution_count": 62,
      "outputs": [
        {
          "output_type": "execute_result",
          "data": {
            "text/html": [
              "<div>\n",
              "<style scoped>\n",
              "    .dataframe tbody tr th:only-of-type {\n",
              "        vertical-align: middle;\n",
              "    }\n",
              "\n",
              "    .dataframe tbody tr th {\n",
              "        vertical-align: top;\n",
              "    }\n",
              "\n",
              "    .dataframe thead th {\n",
              "        text-align: right;\n",
              "    }\n",
              "</style>\n",
              "<table border=\"1\" class=\"dataframe\">\n",
              "  <thead>\n",
              "    <tr style=\"text-align: right;\">\n",
              "      <th></th>\n",
              "      <th>FIFA Popular Name</th>\n",
              "      <th>Height</th>\n",
              "    </tr>\n",
              "  </thead>\n",
              "  <tbody>\n",
              "    <tr>\n",
              "      <th>160</th>\n",
              "      <td>KALINIC Lovre</td>\n",
              "      <td>201</td>\n",
              "    </tr>\n",
              "    <tr>\n",
              "      <th>183</th>\n",
              "      <td>VESTERGAARD Jannik</td>\n",
              "      <td>200</td>\n",
              "    </tr>\n",
              "    <tr>\n",
              "      <th>20</th>\n",
              "      <td>FAZIO Federico</td>\n",
              "      <td>199</td>\n",
              "    </tr>\n",
              "    <tr>\n",
              "      <th>67</th>\n",
              "      <td>COURTOIS Thibaut</td>\n",
              "      <td>199</td>\n",
              "    </tr>\n",
              "    <tr>\n",
              "      <th>665</th>\n",
              "      <td>OLSEN Robin</td>\n",
              "      <td>198</td>\n",
              "    </tr>\n",
              "  </tbody>\n",
              "</table>\n",
              "</div>"
            ],
            "text/plain": [
              "      FIFA Popular Name  Height\n",
              "160       KALINIC Lovre     201\n",
              "183  VESTERGAARD Jannik     200\n",
              "20       FAZIO Federico     199\n",
              "67     COURTOIS Thibaut     199\n",
              "665         OLSEN Robin     198"
            ]
          },
          "metadata": {
            "tags": []
          },
          "execution_count": 62
        }
      ]
    },
    {
      "cell_type": "code",
      "metadata": {
        "id": "94qX57ZNQ4u0",
        "colab_type": "code",
        "colab": {
          "base_uri": "https://localhost:8080/",
          "height": 204
        },
        "outputId": "ff9d3ea8-e306-452b-e93c-a20f217354d2"
      },
      "source": [
        "# Find the top 5 players with the least height\n",
        "\n",
        "df.sort_values('Height', ascending=True)[['FIFA Popular Name', 'Height'] ].head(5)"
      ],
      "execution_count": 63,
      "outputs": [
        {
          "output_type": "execute_result",
          "data": {
            "text/html": [
              "<div>\n",
              "<style scoped>\n",
              "    .dataframe tbody tr th:only-of-type {\n",
              "        vertical-align: middle;\n",
              "    }\n",
              "\n",
              "    .dataframe tbody tr th {\n",
              "        vertical-align: top;\n",
              "    }\n",
              "\n",
              "    .dataframe thead th {\n",
              "        text-align: right;\n",
              "    }\n",
              "</style>\n",
              "<table border=\"1\" class=\"dataframe\">\n",
              "  <thead>\n",
              "    <tr style=\"text-align: right;\">\n",
              "      <th></th>\n",
              "      <th>FIFA Popular Name</th>\n",
              "      <th>Height</th>\n",
              "    </tr>\n",
              "  </thead>\n",
              "  <tbody>\n",
              "    <tr>\n",
              "      <th>554</th>\n",
              "      <td>YAHIA ALSHEHRI</td>\n",
              "      <td>165</td>\n",
              "    </tr>\n",
              "    <tr>\n",
              "      <th>437</th>\n",
              "      <td>QUINTERO Alberto</td>\n",
              "      <td>165</td>\n",
              "    </tr>\n",
              "    <tr>\n",
              "      <th>678</th>\n",
              "      <td>SHAQIRI Xherdan</td>\n",
              "      <td>165</td>\n",
              "    </tr>\n",
              "    <tr>\n",
              "      <th>368</th>\n",
              "      <td>AQUINO Javier</td>\n",
              "      <td>166</td>\n",
              "    </tr>\n",
              "    <tr>\n",
              "      <th>2</th>\n",
              "      <td>LANZINI Manuel</td>\n",
              "      <td>167</td>\n",
              "    </tr>\n",
              "  </tbody>\n",
              "</table>\n",
              "</div>"
            ],
            "text/plain": [
              "    FIFA Popular Name  Height\n",
              "554    YAHIA ALSHEHRI     165\n",
              "437  QUINTERO Alberto     165\n",
              "678   SHAQIRI Xherdan     165\n",
              "368     AQUINO Javier     166\n",
              "2      LANZINI Manuel     167"
            ]
          },
          "metadata": {
            "tags": []
          },
          "execution_count": 63
        }
      ]
    },
    {
      "cell_type": "code",
      "metadata": {
        "id": "ntdQ2mddVxJH",
        "colab_type": "code",
        "colab": {
          "base_uri": "https://localhost:8080/",
          "height": 204
        },
        "outputId": "fc68b66e-8146-4077-98fa-faf852b29e3f"
      },
      "source": [
        "# Find the top 5 players with the most Weight\n",
        "\n",
        "df.sort_values('BMI', ascending=False)[['FIFA Popular Name', 'Weight','BMI'] ].head(5)"
      ],
      "execution_count": 66,
      "outputs": [
        {
          "output_type": "execute_result",
          "data": {
            "text/html": [
              "<div>\n",
              "<style scoped>\n",
              "    .dataframe tbody tr th:only-of-type {\n",
              "        vertical-align: middle;\n",
              "    }\n",
              "\n",
              "    .dataframe tbody tr th {\n",
              "        vertical-align: top;\n",
              "    }\n",
              "\n",
              "    .dataframe thead th {\n",
              "        text-align: right;\n",
              "    }\n",
              "</style>\n",
              "<table border=\"1\" class=\"dataframe\">\n",
              "  <thead>\n",
              "    <tr style=\"text-align: right;\">\n",
              "      <th></th>\n",
              "      <th>FIFA Popular Name</th>\n",
              "      <th>Weight</th>\n",
              "      <th>BMI</th>\n",
              "    </tr>\n",
              "  </thead>\n",
              "  <tbody>\n",
              "    <tr>\n",
              "      <th>574</th>\n",
              "      <td>ABDULLAH ALMUAIOUF</td>\n",
              "      <td>98</td>\n",
              "      <td>30.930438</td>\n",
              "    </tr>\n",
              "    <tr>\n",
              "      <th>678</th>\n",
              "      <td>SHAQIRI Xherdan</td>\n",
              "      <td>78</td>\n",
              "      <td>28.650138</td>\n",
              "    </tr>\n",
              "    <tr>\n",
              "      <th>459</th>\n",
              "      <td>TORRES Roman</td>\n",
              "      <td>99</td>\n",
              "      <td>28.010412</td>\n",
              "    </tr>\n",
              "    <tr>\n",
              "      <th>229</th>\n",
              "      <td>KANE Harry</td>\n",
              "      <td>98</td>\n",
              "      <td>27.727478</td>\n",
              "    </tr>\n",
              "    <tr>\n",
              "      <th>458</th>\n",
              "      <td>CUMMINGS Harold</td>\n",
              "      <td>92</td>\n",
              "      <td>27.471707</td>\n",
              "    </tr>\n",
              "  </tbody>\n",
              "</table>\n",
              "</div>"
            ],
            "text/plain": [
              "      FIFA Popular Name  Weight        BMI\n",
              "574  ABDULLAH ALMUAIOUF      98  30.930438\n",
              "678     SHAQIRI Xherdan      78  28.650138\n",
              "459        TORRES Roman      99  28.010412\n",
              "229          KANE Harry      98  27.727478\n",
              "458     CUMMINGS Harold      92  27.471707"
            ]
          },
          "metadata": {
            "tags": []
          },
          "execution_count": 66
        }
      ]
    },
    {
      "cell_type": "code",
      "metadata": {
        "id": "pZezroquWE2j",
        "colab_type": "code",
        "colab": {
          "base_uri": "https://localhost:8080/",
          "height": 204
        },
        "outputId": "08114c82-9254-4e2a-c659-c4e8585bdd09"
      },
      "source": [
        "# Find the top 5 players with the least weight\n",
        "\n",
        "df.sort_values('BMI', ascending=True)[['FIFA Popular Name', 'Weight', 'BMI'] ].head(5)"
      ],
      "execution_count": 105,
      "outputs": [
        {
          "output_type": "execute_result",
          "data": {
            "text/html": [
              "<div>\n",
              "<style scoped>\n",
              "    .dataframe tbody tr th:only-of-type {\n",
              "        vertical-align: middle;\n",
              "    }\n",
              "\n",
              "    .dataframe tbody tr th {\n",
              "        vertical-align: top;\n",
              "    }\n",
              "\n",
              "    .dataframe thead th {\n",
              "        text-align: right;\n",
              "    }\n",
              "</style>\n",
              "<table border=\"1\" class=\"dataframe\">\n",
              "  <thead>\n",
              "    <tr style=\"text-align: right;\">\n",
              "      <th></th>\n",
              "      <th>FIFA Popular Name</th>\n",
              "      <th>Weight</th>\n",
              "      <th>BMI</th>\n",
              "    </tr>\n",
              "  </thead>\n",
              "  <tbody>\n",
              "    <tr>\n",
              "      <th>509</th>\n",
              "      <td>BRUNO FERNANDES</td>\n",
              "      <td>64</td>\n",
              "      <td>19.110753</td>\n",
              "    </tr>\n",
              "    <tr>\n",
              "      <th>93</th>\n",
              "      <td>MOJICA Johan</td>\n",
              "      <td>66</td>\n",
              "      <td>19.284149</td>\n",
              "    </tr>\n",
              "    <tr>\n",
              "      <th>207</th>\n",
              "      <td>LINGARD Jesse</td>\n",
              "      <td>60</td>\n",
              "      <td>19.591837</td>\n",
              "    </tr>\n",
              "    <tr>\n",
              "      <th>553</th>\n",
              "      <td>SALMAN ALFARAJ</td>\n",
              "      <td>63</td>\n",
              "      <td>19.662308</td>\n",
              "    </tr>\n",
              "    <tr>\n",
              "      <th>628</th>\n",
              "      <td>DE GEA David</td>\n",
              "      <td>71</td>\n",
              "      <td>19.667590</td>\n",
              "    </tr>\n",
              "  </tbody>\n",
              "</table>\n",
              "</div>"
            ],
            "text/plain": [
              "    FIFA Popular Name  Weight        BMI\n",
              "509   BRUNO FERNANDES      64  19.110753\n",
              "93       MOJICA Johan      66  19.284149\n",
              "207     LINGARD Jesse      60  19.591837\n",
              "553    SALMAN ALFARAJ      63  19.662308\n",
              "628      DE GEA David      71  19.667590"
            ]
          },
          "metadata": {
            "tags": []
          },
          "execution_count": 105
        }
      ]
    }
  ]
}